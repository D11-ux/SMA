{
  "nbformat": 4,
  "nbformat_minor": 0,
  "metadata": {
    "colab": {
      "provenance": []
    },
    "kernelspec": {
      "name": "python3",
      "display_name": "Python 3"
    },
    "language_info": {
      "name": "python"
    }
  },
  "cells": [
    {
      "cell_type": "code",
      "execution_count": null,
      "metadata": {
        "id": "TlYcuYE9DJ0n"
      },
      "outputs": [],
      "source": [
        "import pandas as pd\n",
        "import matplotlib.pyplot as plt\n",
        "import seaborn as sns\n",
        "\n",
        "# Load Excel file\n",
        "df = pd.read_excel('cost.xlsx', sheet_name='cost_type')\n",
        "\n",
        "# Combine Year and Quarter for better time-based grouping\n",
        "df['Year_Quarter'] = df['Year (cost)'].astype(str) + \" \" + df['Quarter (cost)']\n",
        "\n",
        "# Set style\n",
        "sns.set(style=\"whitegrid\")\n",
        "\n",
        "# 1. Bar Chart – Total cost by type\n",
        "plt.figure(figsize=(8, 5))\n",
        "df.groupby('Type (cost)')['CostPerType_Q'].sum().sort_values().plot(kind='barh', color='skyblue')\n",
        "plt.title('Total Cost by Type')\n",
        "plt.xlabel('Total Cost')\n",
        "plt.ylabel('Cost Type')\n",
        "plt.tight_layout()\n",
        "plt.savefig('1_bar_total_cost_by_type.png')\n",
        "plt.close()\n",
        "\n",
        "# 2. Line Chart – Cost trend over quarters\n",
        "plt.figure(figsize=(10, 5))\n",
        "df.groupby('Year_Quarter')['CostPerType_Q'].sum().plot(marker='o')\n",
        "plt.title('Total Cost Trend Over Quarters')\n",
        "plt.xlabel('Year Quarter')\n",
        "plt.ylabel('Total Cost')\n",
        "plt.xticks(rotation=45)\n",
        "plt.tight_layout()\n",
        "plt.savefig('2_line_cost_trend.png')\n",
        "plt.close()\n",
        "\n",
        "# 3. Pie Chart – Cost distribution by type in 2019 Q2\n",
        "filtered = df[(df['Year (cost)'] == 2019) & (df['Quarter (cost)'] == 'Q2')]\n",
        "plt.figure(figsize=(6, 6))\n",
        "plt.pie(filtered['CostPerType_Q'], labels=filtered['Type (cost)'], autopct='%1.1f%%', startangle=140)\n",
        "plt.title('Cost Distribution by Type (2019 Q2)')\n",
        "plt.tight_layout()\n",
        "plt.savefig('3_pie_distribution_2019_Q2.png')\n",
        "plt.close()\n",
        "\n",
        "# 4. Grouped Bar Chart – Cost per type across years\n",
        "plt.figure(figsize=(10, 6))\n",
        "grouped = df.groupby(['Year (cost)', 'Type (cost)'])['CostPerType_Q'].sum().unstack()\n",
        "grouped.plot(kind='bar')\n",
        "plt.title('Cost per Type Across Years')\n",
        "plt.xlabel('Year')\n",
        "plt.ylabel('Total Cost')\n",
        "plt.legend(title='Type', bbox_to_anchor=(1.05, 1), loc='upper left')\n",
        "plt.tight_layout()\n",
        "plt.savefig('4_grouped_bar_type_year.png')\n",
        "plt.close()\n",
        "\n",
        "# 5. Stacked Area Chart – Quarterly cost breakdown by type\n",
        "pivot_data = df.pivot_table(index='Year_Quarter', columns='Type (cost)', values='CostPerType_Q', aggfunc='sum').fillna(0)\n",
        "pivot_data.plot.area(figsize=(12, 6), colormap='Set2')\n",
        "plt.title('Quarterly Cost Breakdown by Type')\n",
        "plt.xlabel('Year Quarter')\n",
        "plt.ylabel('Cost')\n",
        "plt.xticks(rotation=45)\n",
        "plt.tight_layout()\n",
        "plt.savefig('5_stacked_area_cost_breakdown.png')\n",
        "plt.close()\n"
      ]
    }
  ]
}